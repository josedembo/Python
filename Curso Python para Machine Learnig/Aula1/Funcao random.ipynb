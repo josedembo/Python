{
 "cells": [
  {
   "cell_type": "code",
   "execution_count": 29,
   "id": "radio-demonstration",
   "metadata": {},
   "outputs": [],
   "source": [
    "import random\n",
    "\n",
    "cidades =['São Paulo', 'Rio Grande do Sul','Recife','Ceará','Parana']\n",
    "numeros_sorte =[23,5,12,89,17,6]\n",
    "\n",
    "escolhida = random.choice(cidades)\n",
    "n_escolhido=random.choice(numeros_sorte)"
   ]
  },
  {
   "cell_type": "code",
   "execution_count": 30,
   "id": "automotive-margin",
   "metadata": {},
   "outputs": [
    {
     "data": {
      "text/plain": [
       "'Recife'"
      ]
     },
     "execution_count": 30,
     "metadata": {},
     "output_type": "execute_result"
    }
   ],
   "source": [
    "escolhida"
   ]
  },
  {
   "cell_type": "code",
   "execution_count": 31,
   "id": "worse-showcase",
   "metadata": {},
   "outputs": [
    {
     "data": {
      "text/plain": [
       "89"
      ]
     },
     "execution_count": 31,
     "metadata": {},
     "output_type": "execute_result"
    }
   ],
   "source": [
    "n_escolhido"
   ]
  },
  {
   "cell_type": "code",
   "execution_count": 32,
   "id": "comfortable-marks",
   "metadata": {},
   "outputs": [
    {
     "name": "stdout",
     "output_type": "stream",
     "text": [
      "Recife\n"
     ]
    }
   ],
   "source": [
    "print(escolhida)"
   ]
  },
  {
   "cell_type": "code",
   "execution_count": 33,
   "id": "radical-simple",
   "metadata": {},
   "outputs": [],
   "source": [
    "a = [1,2,3,4]"
   ]
  },
  {
   "cell_type": "code",
   "execution_count": 34,
   "id": "functional-webcam",
   "metadata": {},
   "outputs": [],
   "source": [
    "a.append(17)"
   ]
  },
  {
   "cell_type": "code",
   "execution_count": 35,
   "id": "everyday-marathon",
   "metadata": {},
   "outputs": [],
   "source": [
    "a.append('Love')"
   ]
  },
  {
   "cell_type": "code",
   "execution_count": 36,
   "id": "minute-produce",
   "metadata": {},
   "outputs": [
    {
     "data": {
      "text/plain": [
       "[1, 2, 3, 4, 17, 'Love']"
      ]
     },
     "execution_count": 36,
     "metadata": {},
     "output_type": "execute_result"
    }
   ],
   "source": [
    "a"
   ]
  },
  {
   "cell_type": "code",
   "execution_count": null,
   "id": "stuffed-float",
   "metadata": {},
   "outputs": [],
   "source": []
  }
 ],
 "metadata": {
  "kernelspec": {
   "display_name": "Python 3",
   "language": "python",
   "name": "python3"
  },
  "language_info": {
   "codemirror_mode": {
    "name": "ipython",
    "version": 3
   },
   "file_extension": ".py",
   "mimetype": "text/x-python",
   "name": "python",
   "nbconvert_exporter": "python",
   "pygments_lexer": "ipython3",
   "version": "3.9.1"
  }
 },
 "nbformat": 4,
 "nbformat_minor": 5
}
