{
 "cells": [
  {
   "cell_type": "markdown",
   "id": "extended-complexity",
   "metadata": {},
   "source": [
    "# Convertendo os numeros de uma lista do tipo int para float"
   ]
  },
  {
   "cell_type": "code",
   "execution_count": 2,
   "id": "speaking-edmonton",
   "metadata": {},
   "outputs": [],
   "source": [
    "num = 8"
   ]
  },
  {
   "cell_type": "code",
   "execution_count": 3,
   "id": "prospective-navigator",
   "metadata": {},
   "outputs": [
    {
     "data": {
      "text/plain": [
       "int"
      ]
     },
     "execution_count": 3,
     "metadata": {},
     "output_type": "execute_result"
    }
   ],
   "source": [
    "type(num)"
   ]
  },
  {
   "cell_type": "code",
   "execution_count": 4,
   "id": "mechanical-herald",
   "metadata": {},
   "outputs": [
    {
     "data": {
      "text/plain": [
       "8.0"
      ]
     },
     "execution_count": 4,
     "metadata": {},
     "output_type": "execute_result"
    }
   ],
   "source": [
    "float(num)"
   ]
  },
  {
   "cell_type": "code",
   "execution_count": 5,
   "id": "existing-cancer",
   "metadata": {},
   "outputs": [],
   "source": [
    "lista = [2,4,10,6]"
   ]
  },
  {
   "cell_type": "code",
   "execution_count": 6,
   "id": "persistent-shore",
   "metadata": {},
   "outputs": [
    {
     "data": {
      "text/plain": [
       "int"
      ]
     },
     "execution_count": 6,
     "metadata": {},
     "output_type": "execute_result"
    }
   ],
   "source": [
    "type(lista[0])"
   ]
  },
  {
   "cell_type": "code",
   "execution_count": 7,
   "id": "golden-custom",
   "metadata": {},
   "outputs": [],
   "source": []
  },
  {
   "cell_type": "code",
   "execution_count": 15,
   "id": "retired-syria",
   "metadata": {},
   "outputs": [],
   "source": [
    "nova_lista =[]\n",
    "for item in lista:\n",
    "    nova_lista.append(float(item))"
   ]
  },
  {
   "cell_type": "code",
   "execution_count": 17,
   "id": "suburban-tender",
   "metadata": {},
   "outputs": [
    {
     "name": "stdout",
     "output_type": "stream",
     "text": [
      "2.0 <class 'float'>\n",
      "4.0 <class 'float'>\n",
      "10.0 <class 'float'>\n",
      "6.0 <class 'float'>\n"
     ]
    }
   ],
   "source": [
    "for item in nova_lista:\n",
    "    print(item,type(item))"
   ]
  },
  {
   "cell_type": "code",
   "execution_count": 18,
   "id": "concerned-contract",
   "metadata": {},
   "outputs": [
    {
     "name": "stdout",
     "output_type": "stream",
     "text": [
      "[2.0, 4.0, 10.0, 6.0]\n"
     ]
    }
   ],
   "source": [
    "print(nova_lista)"
   ]
  },
  {
   "cell_type": "code",
   "execution_count": null,
   "id": "ethical-isaac",
   "metadata": {},
   "outputs": [],
   "source": []
  }
 ],
 "metadata": {
  "kernelspec": {
   "display_name": "Python 3",
   "language": "python",
   "name": "python3"
  },
  "language_info": {
   "codemirror_mode": {
    "name": "ipython",
    "version": 3
   },
   "file_extension": ".py",
   "mimetype": "text/x-python",
   "name": "python",
   "nbconvert_exporter": "python",
   "pygments_lexer": "ipython3",
   "version": "3.9.1"
  }
 },
 "nbformat": 4,
 "nbformat_minor": 5
}
